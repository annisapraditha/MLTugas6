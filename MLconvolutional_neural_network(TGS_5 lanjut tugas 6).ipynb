{
  "nbformat": 4,
  "nbformat_minor": 0,
  "metadata": {
    "colab": {
      "name": "MLconvolutional_neural_network(TGS 5).ipynb",
      "provenance": []
    },
    "kernelspec": {
      "name": "python3",
      "display_name": "Python 3"
    },
    "language_info": {
      "name": "python"
    },
    "accelerator": "GPU"
  },
  "cells": [
    {
      "cell_type": "code",
      "metadata": {
        "colab": {
          "base_uri": "https://localhost:8080/"
        },
        "id": "olwIqJye9B2v",
        "outputId": "b3279371-dc6a-476d-8bdc-1f12cbb0d586"
      },
      "source": [
        "from google.colab import drive #buat loot drive\n",
        "drive.mount('/content/drive')"
      ],
      "execution_count": 20,
      "outputs": [
        {
          "output_type": "stream",
          "name": "stdout",
          "text": [
            "Drive already mounted at /content/drive; to attempt to forcibly remount, call drive.mount(\"/content/drive\", force_remount=True).\n"
          ]
        }
      ]
    },
    {
      "cell_type": "code",
      "metadata": {
        "id": "FpsYFWaT9uSB"
      },
      "source": [
        "import os\n",
        "import zipfile\n",
        "\n",
        "local_zip = '/content/drive/MyDrive/ml/chest_xray.zip'\n",
        "zip_ref = zipfile.ZipFile(local_zip, 'r')\n",
        "zip_ref.extractall('/tmp')\n",
        "zip_ref.close()"
      ],
      "execution_count": 3,
      "outputs": []
    },
    {
      "cell_type": "code",
      "metadata": {
        "id": "0yOKVn0N9uVp"
      },
      "source": [
        "# Definisikan path untuk data train dan data validation\n",
        "\n",
        "base_dir = '/tmp/chest_xray'\n",
        "\n",
        "\n",
        "test_dir = os.path.join(base_dir, 'test')\n",
        "train_dir = os.path.join(base_dir, 'train')\n",
        "\n",
        "test_NORMAL_dir = os.path.join(test_dir, 'NORMAL')\n",
        "test_PNEUMONIA_dir = os.path.join(test_dir, 'PNEUMONIA')\n",
        "\n",
        "train_NORMAL_dir = os.path.join(train_dir, 'NORMAL')\n",
        "train_PNEUMONIA_dir = os.path.join(train_dir, 'PNEUMONIA')"
      ],
      "execution_count": 21,
      "outputs": []
    },
    {
      "cell_type": "code",
      "metadata": {
        "id": "rBE6x3xJ9uYc"
      },
      "source": [
        "import cv2\n",
        "import numpy as np\n",
        "\n",
        "# Gather data test\n",
        "test_data = []\n",
        "test_label = []\n",
        "for r, d, f in os.walk(test_dir):\n",
        "    for file in f:\n",
        "        if \".jpeg\" in file:\n",
        "            imagePath = os.path.join(r, file)\n",
        "            image = cv2.imread(imagePath)\n",
        "            image = cv2.resize(image, (150,150))\n",
        "            test_data.append(image)\n",
        "            label = imagePath.split(os.path.sep)[-2]\n",
        "            test_label.append(label)\n",
        "\n",
        "test_data = np.array(test_data)\n",
        "test_label = np.array(test_label)"
      ],
      "execution_count": 22,
      "outputs": []
    },
    {
      "cell_type": "code",
      "metadata": {
        "id": "L3DttCrS9ubD"
      },
      "source": [
        "# Gather data validation\n",
        "train_data = []\n",
        "train_label = []\n",
        "for r, d, f in os.walk(train_dir):\n",
        "    for file in f:\n",
        "        if \".jpeg\" in file:\n",
        "            imagePath = os.path.join(r, file)\n",
        "            image = cv2.imread(imagePath)\n",
        "            image = cv2.resize(image, (150,150))\n",
        "            train_data.append(image)\n",
        "            label = imagePath.split(os.path.sep)[-2]\n",
        "            train_label.append(label)\n",
        "\n",
        "train_data = np.array(train_data)\n",
        "train_label = np.array(train_label)"
      ],
      "execution_count": 23,
      "outputs": []
    },
    {
      "cell_type": "markdown",
      "metadata": {
        "id": "ExwdCPShEzIt"
      },
      "source": [
        "Data Preprocessing"
      ]
    },
    {
      "cell_type": "code",
      "metadata": {
        "colab": {
          "base_uri": "https://localhost:8080/"
        },
        "id": "QgK-53Ev9ud9",
        "outputId": "73417f21-49e9-4183-9be0-05bcf2f8b375"
      },
      "source": [
        "# Tampilkan shape dari data train dan data validation\n",
        "print(\"Test Data = \", test_data.shape)\n",
        "print(\"Test Label = \", test_label.shape)\n",
        "print(\"Train Data = \", train_data.shape)\n",
        "print(\"Train Label = \", train_label.shape)"
      ],
      "execution_count": 24,
      "outputs": [
        {
          "output_type": "stream",
          "name": "stdout",
          "text": [
            "Test Data =  (624, 150, 150, 3)\n",
            "Test Label =  (624,)\n",
            "Train Data =  (5232, 150, 150, 3)\n",
            "Train Label =  (5232,)\n"
          ]
        }
      ]
    },
    {
      "cell_type": "code",
      "metadata": {
        "colab": {
          "base_uri": "https://localhost:8080/"
        },
        "id": "mN9lthNT9ug8",
        "outputId": "a5a588e8-6185-48c9-882e-8c603aac3415"
      },
      "source": [
        "# Normalisasi dataset\n",
        "print(\"Data sebelum di-normalisasi \", test_data[0][0][0])\n",
        "\n",
        "x_test = test_data.astype('float32') / 255.0\n",
        "x_train = train_data.astype('float32') / 255.0\n",
        "print(\"Data setelah di-normalisasi \", x_test[0][0][0])"
      ],
      "execution_count": 25,
      "outputs": [
        {
          "output_type": "stream",
          "name": "stdout",
          "text": [
            "Data sebelum di-normalisasi  [0 0 0]\n",
            "Data setelah di-normalisasi  [0. 0. 0.]\n"
          ]
        }
      ]
    },
    {
      "cell_type": "code",
      "metadata": {
        "colab": {
          "base_uri": "https://localhost:8080/"
        },
        "id": "YM3gkn7p9ujF",
        "outputId": "91269bfc-5308-489b-add0-dd13e5c36a84"
      },
      "source": [
        "# Transformasi label encoder\n",
        "from sklearn.preprocessing import LabelEncoder\n",
        "\n",
        "print(\"Label sebelum di-encoder \", test_label[100:110])\n",
        "\n",
        "lb = LabelEncoder()\n",
        "y_test = lb.fit_transform(test_label)\n",
        "y_train = lb.fit_transform(train_label)\n",
        "\n",
        "print(\"Label setelah di-encoder \", y_test[100:110])"
      ],
      "execution_count": 26,
      "outputs": [
        {
          "output_type": "stream",
          "name": "stdout",
          "text": [
            "Label sebelum di-encoder  ['NORMAL' 'NORMAL' 'NORMAL' 'NORMAL' 'NORMAL' 'NORMAL' 'NORMAL' 'NORMAL'\n",
            " 'NORMAL' 'NORMAL']\n",
            "Label setelah di-encoder  [0 0 0 0 0 0 0 0 0 0]\n"
          ]
        }
      ]
    },
    {
      "cell_type": "markdown",
      "metadata": {
        "id": "GclczzpBFAj3"
      },
      "source": [
        "Definisikan Model"
      ]
    },
    {
      "cell_type": "code",
      "metadata": {
        "id": "g4JvlGpFE9sX"
      },
      "source": [
        "from tensorflow.keras.models import Sequential\n",
        "from tensorflow.keras.layers import InputLayer, Dense, Conv2D, MaxPool2D, Flatten"
      ],
      "execution_count": 27,
      "outputs": []
    },
    {
      "cell_type": "code",
      "metadata": {
        "id": "kiszLSth9uli"
      },
      "source": [
        "# Feature Extraction Layer\n",
        "model = Sequential()\n",
        "\n",
        "model.add(InputLayer(input_shape=[150,150,3]))\n",
        "model.add(Conv2D(filters=16, kernel_size=3, strides=1, padding='same', activation='relu'))\n",
        "model.add(MaxPool2D(pool_size=2, padding='same'))\n",
        "model.add(Conv2D(filters=32, kernel_size=3, strides=1, padding='same', activation='relu'))\n",
        "model.add(MaxPool2D(pool_size=2, padding='same'))\n",
        "model.add(Conv2D(filters=64, kernel_size=3, strides=1, padding='same', activation='relu'))\n",
        "model.add(MaxPool2D(pool_size=2, padding='same'))\n",
        "model.add(Flatten())"
      ],
      "execution_count": 28,
      "outputs": []
    },
    {
      "cell_type": "code",
      "metadata": {
        "id": "kSwRR_hF9un_"
      },
      "source": [
        "\n",
        "# Fully Connected Layer\n",
        "model.add(Dense(128, activation='relu'))\n",
        "model.add(Dense(1, activation='sigmoid'))"
      ],
      "execution_count": 29,
      "outputs": []
    },
    {
      "cell_type": "code",
      "metadata": {
        "colab": {
          "base_uri": "https://localhost:8080/"
        },
        "id": "nwQ28K6T_J8x",
        "outputId": "6fecef21-c288-41e9-fa0e-d705b738e20e"
      },
      "source": [
        "# Print model summary\n",
        "print(model.summary())"
      ],
      "execution_count": 30,
      "outputs": [
        {
          "output_type": "stream",
          "name": "stdout",
          "text": [
            "Model: \"sequential_1\"\n",
            "_________________________________________________________________\n",
            " Layer (type)                Output Shape              Param #   \n",
            "=================================================================\n",
            " conv2d_3 (Conv2D)           (None, 150, 150, 16)      448       \n",
            "                                                                 \n",
            " max_pooling2d_3 (MaxPooling  (None, 75, 75, 16)       0         \n",
            " 2D)                                                             \n",
            "                                                                 \n",
            " conv2d_4 (Conv2D)           (None, 75, 75, 32)        4640      \n",
            "                                                                 \n",
            " max_pooling2d_4 (MaxPooling  (None, 38, 38, 32)       0         \n",
            " 2D)                                                             \n",
            "                                                                 \n",
            " conv2d_5 (Conv2D)           (None, 38, 38, 64)        18496     \n",
            "                                                                 \n",
            " max_pooling2d_5 (MaxPooling  (None, 19, 19, 64)       0         \n",
            " 2D)                                                             \n",
            "                                                                 \n",
            " flatten_1 (Flatten)         (None, 23104)             0         \n",
            "                                                                 \n",
            " dense_2 (Dense)             (None, 128)               2957440   \n",
            "                                                                 \n",
            " dense_3 (Dense)             (None, 1)                 129       \n",
            "                                                                 \n",
            "=================================================================\n",
            "Total params: 2,981,153\n",
            "Trainable params: 2,981,153\n",
            "Non-trainable params: 0\n",
            "_________________________________________________________________\n",
            "None\n"
          ]
        }
      ]
    },
    {
      "cell_type": "code",
      "metadata": {
        "colab": {
          "base_uri": "https://localhost:8080/"
        },
        "id": "nDYczPLU_KAO",
        "outputId": "9eb0410c-5bed-4f40-fd6b-d4aad51abb25"
      },
      "source": [
        "# Compile model\n",
        "from tensorflow.keras.optimizers import Adam\n",
        "\n",
        "model.compile(optimizer=Adam(lr=0.001), \n",
        "              loss='binary_crossentropy', \n",
        "              metrics=['acc'])"
      ],
      "execution_count": 31,
      "outputs": [
        {
          "output_type": "stream",
          "name": "stderr",
          "text": [
            "/usr/local/lib/python3.7/dist-packages/keras/optimizer_v2/adam.py:105: UserWarning: The `lr` argument is deprecated, use `learning_rate` instead.\n",
            "  super(Adam, self).__init__(name, **kwargs)\n"
          ]
        }
      ]
    },
    {
      "cell_type": "markdown",
      "metadata": {
        "id": "kotJmCi9FFM0"
      },
      "source": [
        "Training Model"
      ]
    },
    {
      "cell_type": "code",
      "metadata": {
        "colab": {
          "base_uri": "https://localhost:8080/"
        },
        "id": "6RxZnSWi_KGg",
        "outputId": "4967cb79-8544-41de-dc6b-23cfb294776c"
      },
      "source": [
        "H = model.fit(x_test, y_test, batch_size=20, epochs=15, validation_data=(x_train, y_train))"
      ],
      "execution_count": 32,
      "outputs": [
        {
          "output_type": "stream",
          "name": "stdout",
          "text": [
            "Epoch 1/15\n",
            "32/32 [==============================] - 4s 115ms/step - loss: 0.6048 - acc: 0.6619 - val_loss: 0.5629 - val_acc: 0.7041\n",
            "Epoch 2/15\n",
            "32/32 [==============================] - 3s 93ms/step - loss: 0.2839 - acc: 0.8766 - val_loss: 0.2973 - val_acc: 0.8763\n",
            "Epoch 3/15\n",
            "32/32 [==============================] - 3s 91ms/step - loss: 0.1905 - acc: 0.9295 - val_loss: 0.3382 - val_acc: 0.8498\n",
            "Epoch 4/15\n",
            "32/32 [==============================] - 3s 91ms/step - loss: 0.1952 - acc: 0.9311 - val_loss: 0.3468 - val_acc: 0.8481\n",
            "Epoch 5/15\n",
            "32/32 [==============================] - 3s 91ms/step - loss: 0.1315 - acc: 0.9455 - val_loss: 0.5302 - val_acc: 0.8125\n",
            "Epoch 6/15\n",
            "32/32 [==============================] - 3s 91ms/step - loss: 0.1002 - acc: 0.9535 - val_loss: 0.4524 - val_acc: 0.8410\n",
            "Epoch 7/15\n",
            "32/32 [==============================] - 3s 92ms/step - loss: 0.0697 - acc: 0.9712 - val_loss: 0.7013 - val_acc: 0.7920\n",
            "Epoch 8/15\n",
            "32/32 [==============================] - 3s 91ms/step - loss: 0.0735 - acc: 0.9696 - val_loss: 0.3810 - val_acc: 0.8660\n",
            "Epoch 9/15\n",
            "32/32 [==============================] - 3s 90ms/step - loss: 0.0595 - acc: 0.9760 - val_loss: 0.5046 - val_acc: 0.8435\n",
            "Epoch 10/15\n",
            "32/32 [==============================] - 3s 94ms/step - loss: 0.0299 - acc: 0.9936 - val_loss: 0.7603 - val_acc: 0.8041\n",
            "Epoch 11/15\n",
            "32/32 [==============================] - 3s 94ms/step - loss: 0.0224 - acc: 0.9952 - val_loss: 0.6199 - val_acc: 0.8492\n",
            "Epoch 12/15\n",
            "32/32 [==============================] - 3s 95ms/step - loss: 0.0137 - acc: 0.9968 - val_loss: 0.6694 - val_acc: 0.8452\n",
            "Epoch 13/15\n",
            "32/32 [==============================] - 3s 93ms/step - loss: 0.0042 - acc: 1.0000 - val_loss: 0.6513 - val_acc: 0.8584\n",
            "Epoch 14/15\n",
            "32/32 [==============================] - 3s 92ms/step - loss: 0.0027 - acc: 1.0000 - val_loss: 0.7075 - val_acc: 0.8589\n",
            "Epoch 15/15\n",
            "32/32 [==============================] - 3s 94ms/step - loss: 0.0013 - acc: 1.0000 - val_loss: 0.8325 - val_acc: 0.8444\n"
          ]
        }
      ]
    },
    {
      "cell_type": "markdown",
      "metadata": {
        "id": "5BoKKDprFIB_"
      },
      "source": [
        "Evaluasi Model"
      ]
    },
    {
      "cell_type": "code",
      "metadata": {
        "colab": {
          "base_uri": "https://localhost:8080/",
          "height": 299
        },
        "id": "T8ykmOHc_KKF",
        "outputId": "6d0543b3-18f2-4f66-bb74-4c4c056ab2b5"
      },
      "source": [
        "%matplotlib inline\n",
        "\n",
        "import matplotlib.pyplot as plt\n",
        "\n",
        "plt.style.use(\"ggplot\")\n",
        "plt.figure()\n",
        "plt.plot(np.arange(0, 15), H.history[\"loss\"], label=\"train_loss\")\n",
        "plt.plot(np.arange(0, 15), H.history[\"val_loss\"], label=\"val_loss\")\n",
        "plt.title(\"Loss Plot\")\n",
        "plt.xlabel(\"Epoch #\")\n",
        "plt.ylabel(\"Loss\")\n",
        "plt.legend()\n",
        "plt.show()"
      ],
      "execution_count": 33,
      "outputs": [
        {
          "output_type": "display_data",
          "data": {
            "image/png": "[encoded data removed]",
            "text/plain": [
              "<Figure size 432x288 with 1 Axes>"
            ]
          },
          "metadata": {}
        }
      ]
    },
    {
      "cell_type": "code",
      "metadata": {
        "colab": {
          "base_uri": "https://localhost:8080/",
          "height": 299
        },
        "id": "uNU5nTK2_RDq",
        "outputId": "9ceed28f-33e3-4cc2-90ba-447f531bef49"
      },
      "source": [
        "plt.style.use(\"ggplot\")\n",
        "plt.figure()\n",
        "plt.plot(np.arange(0, 15), H.history[\"acc\"], label=\"train_acc\")\n",
        "plt.plot(np.arange(0, 15), H.history[\"val_acc\"], label=\"val_acc\")\n",
        "plt.title(\"Accuracy Plot\")\n",
        "plt.xlabel(\"Epoch #\")\n",
        "plt.ylabel(\"Acc\")\n",
        "plt.legend()\n",
        "plt.show()"
      ],
      "execution_count": 34,
      "outputs": [
        {
          "output_type": "display_data",
          "data": {
            "image/png": "[encoded data removed]",
            "text/plain": [
              "<Figure size 432x288 with 1 Axes>"
            ]
          },
          "metadata": {}
        }
      ]
    },
    {
      "cell_type": "code",
      "metadata": {
        "colab": {
          "base_uri": "https://localhost:8080/"
        },
        "id": "xFu0Bz6D_RG0",
        "outputId": "56658e1c-d862-49a5-a3aa-e7fbd56358e3"
      },
      "source": [
        "from sklearn.metrics import classification_report\n",
        "\n",
        "pred = model.predict(x_train)\n",
        "labels = (pred > 0.5).astype(np.int)\n",
        "\n",
        "print(classification_report(y_train, labels))"
      ],
      "execution_count": 35,
      "outputs": [
        {
          "output_type": "stream",
          "name": "stdout",
          "text": [
            "              precision    recall  f1-score   support\n",
            "\n",
            "           0       0.64      0.92      0.75      1349\n",
            "           1       0.97      0.82      0.89      3883\n",
            "\n",
            "    accuracy                           0.84      5232\n",
            "   macro avg       0.80      0.87      0.82      5232\n",
            "weighted avg       0.88      0.84      0.85      5232\n",
            "\n"
          ]
        }
      ]
    },
    {
      "cell_type": "code",
      "metadata": {
        "id": "tv2tVm-s_RKW"
      },
      "source": [
        "from keras.models import save_model\n",
        "model = save_model(model,'tugas6(1).h5')"
      ],
      "execution_count": 36,
      "outputs": []
    },
    {
      "cell_type": "code",
      "metadata": {
        "id": "70UIbfjLWmnZ"
      },
      "source": [
        ""
      ],
      "execution_count": null,
      "outputs": []
    }
  ]
}